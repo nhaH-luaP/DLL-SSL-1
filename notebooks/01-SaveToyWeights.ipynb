{
 "cells": [
  {
   "cell_type": "code",
   "execution_count": 7,
   "metadata": {},
   "outputs": [],
   "source": [
    "# This notebook only serves the purpose to artificially create a save-state of a model to simulate a pretrained-weights file for finetuning debugging.\n",
    "\n",
    "import sys\n",
    "sys.path.append(\"../\")\n",
    "from model.swin_vision_transformer import SWINVisionTransformerModule\n",
    "from model.vision_transformer import VisionTransformerModule\n",
    "\n",
    "import torch"
   ]
  },
  {
   "cell_type": "code",
   "execution_count": 8,
   "metadata": {},
   "outputs": [],
   "source": [
    "model1 = VisionTransformerModule()\n",
    "model2 = SWINVisionTransformerModule(in_chans=1, num_classes=21, embed_dim=96, patch_size=4, window_size=4, depths=[2, 2, 6, 2], num_heads=[3, 6, 12, 24], img_size=(1024, 128))\n",
    "\n",
    "#torch.save(model1.state_dict(), \"../pretrained_weights/vit_save_state_example.pth\")\n",
    "torch.save(model2.state_dict(), \"../pretrained_weights/vit_swin_save_state_example.pth\")"
   ]
  },
  {
   "cell_type": "code",
   "execution_count": null,
   "metadata": {},
   "outputs": [],
   "source": []
  }
 ],
 "metadata": {
  "kernelspec": {
   "display_name": "birdset",
   "language": "python",
   "name": "python3"
  },
  "language_info": {
   "codemirror_mode": {
    "name": "ipython",
    "version": 3
   },
   "file_extension": ".py",
   "mimetype": "text/x-python",
   "name": "python",
   "nbconvert_exporter": "python",
   "pygments_lexer": "ipython3",
   "version": "3.10.14"
  }
 },
 "nbformat": 4,
 "nbformat_minor": 2
}
