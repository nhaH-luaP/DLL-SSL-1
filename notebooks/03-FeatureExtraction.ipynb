{
 "cells": [
  {
   "cell_type": "code",
   "execution_count": 1,
   "id": "aae063c9-2799-4705-9ce8-1b198fb48efe",
   "metadata": {},
   "outputs": [],
   "source": [
    "import sys\n",
    "from tqdm import tqdm\n",
    "sys.path.append('..')\n",
    "\n",
    "from utils import seed_everything\n",
    "from utils import MetricsCallback, load_yaml_as_omegaconf, build_dataset\n",
    "from models import build_pretrained_model\n",
    "from data.birdsetwrapper import BirdSetWrapper\n",
    "from torch.utils.data import DataLoader\n",
    "import torch\n",
    "from sklearn.manifold import TSNE\n",
    "import matplotlib.pyplot as plt"
   ]
  },
  {
   "cell_type": "code",
   "execution_count": 2,
   "id": "54f5769a-4696-4b2c-a82e-d5c71f360b30",
   "metadata": {},
   "outputs": [],
   "source": [
    "args = load_yaml_as_omegaconf(yaml_file_path=\"../config.yaml\")\n",
    "seed_everything(args.random_seed + 42)\n",
    "device = torch.device('cuda' if torch.cuda.is_available else 'cpu')"
   ]
  },
  {
   "cell_type": "markdown",
   "id": "50ea971d-18ed-44fb-bac3-93bcaabd60e6",
   "metadata": {},
   "source": [
    "## 1. Get Finetuning Dataset (NBP)"
   ]
  },
  {
   "cell_type": "code",
   "execution_count": 3,
   "id": "91269aae-6354-4fae-aed2-56ec359c6f02",
   "metadata": {},
   "outputs": [
    {
     "name": "stderr",
     "output_type": "stream",
     "text": [
      "2024-10-11 22:54:55 | INFO | birdset.datamodule.base_datamodule | Check if preparing has already been done.\n",
      "2024-10-11 22:54:55 | INFO | birdset.datamodule.base_datamodule | Prepare Data\n",
      "2024-10-11 22:54:55 | INFO | birdset.datamodule.base_datamodule | > Loading data set.\n",
      "2024-10-11 22:54:58 | INFO | birdset.datamodule.birdset_datamodule | > Mapping data set.\n",
      "2024-10-11 22:54:58 | INFO | birdset.datamodule.birdset_datamodule | >> Smart sampling to self.dataset_config.classlimit=500, self.dataset_config.eventlimit=1\n",
      "2024-10-11 22:55:07 | INFO | birdset.datamodule.base_datamodule | Train fingerprint found in /mnt/stud/work/deeplearninglab/ss2024/ssl-1/data_birdset/HSN/HSN_processed_42_77fbb47c0e6ba6ab, saving to disk is skipped\n",
      "2024-10-11 22:55:07 | INFO | birdset.datamodule.base_datamodule | fit\n",
      "2024-10-11 22:55:07 | INFO | birdset.datamodule.base_datamodule | test\n"
     ]
    }
   ],
   "source": [
    "dm = build_dataset(args)\n",
    "dm.prepare_data()\n",
    "dm.setup(stage=\"fit\")\n",
    "\n",
    "train_dataset = BirdSetWrapper(dm.train_dataset)\n",
    "val_dataset = BirdSetWrapper(dm.val_dataset)\n",
    "\n",
    "dm.setup(stage='test')\n",
    "test_dataset = BirdSetWrapper(dm.test_dataset)\n",
    "\n",
    "train_loader = DataLoader(\n",
    "    train_dataset, batch_size=32, shuffle=True,num_workers=args.dataset.num_workers\n",
    ")\n",
    "val_loader = DataLoader(\n",
    "    val_dataset, batch_size=32, shuffle=False, num_workers=args.dataset.num_workers\n",
    ")\n",
    "test_loader = DataLoader(\n",
    "    test_dataset, batch_size=32, shuffle=False, num_workers=args.dataset.num_workers\n",
    ")"
   ]
  },
  {
   "cell_type": "markdown",
   "id": "9d309538-eb40-4094-8df6-be3221b230a7",
   "metadata": {},
   "source": [
    "## 2. Init model with pretrained weights"
   ]
  },
  {
   "cell_type": "code",
   "execution_count": 4,
   "id": "647dc7da-c2f3-4509-9af7-9cb5176b629c",
   "metadata": {},
   "outputs": [
    {
     "name": "stderr",
     "output_type": "stream",
     "text": [
      "2024-10-11 22:55:09 | INFO | models.EAT_pretraining | making target model\n"
     ]
    }
   ],
   "source": [
    "model = build_pretrained_model(args).to(device)"
   ]
  },
  {
   "cell_type": "code",
   "execution_count": 5,
   "id": "912adc0e-609a-4ca4-ada1-8115a516e58a",
   "metadata": {},
   "outputs": [
    {
     "name": "stderr",
     "output_type": "stream",
     "text": [
      "100%|██████████| 8417/8417 [03:34<00:00, 39.24it/s]\n"
     ]
    }
   ],
   "source": [
    "features_list = []\n",
    "labels_list = []\n",
    "\n",
    "for input, label in tqdm(train_dataset):\n",
    "    input = input.to(device)\n",
    "    features = model._extract_features(input.unsqueeze(dim=0)).flatten()\n",
    "    features_list.append(features)\n",
    "    labels_list.append(label.item())"
   ]
  },
  {
   "cell_type": "code",
   "execution_count": 6,
   "id": "869fca1f-5334-45ac-bd87-d773ac9fafa9",
   "metadata": {},
   "outputs": [],
   "source": [
    "features_list = torch.stack(features_list).detach().cpu()\n",
    "labels_list = torch.tensor(labels_list)"
   ]
  },
  {
   "cell_type": "markdown",
   "id": "a1d3bdbd-8352-4915-b1a2-4e6aa7e4ba89",
   "metadata": {},
   "source": [
    "## 3. Plot T-SNE Embedding"
   ]
  },
  {
   "cell_type": "code",
   "execution_count": null,
   "id": "04abb959-869e-4ee6-bb91-af2a76d23c3f",
   "metadata": {},
   "outputs": [],
   "source": [
    "embeddings = TSNE().fit_transform(features_list)"
   ]
  },
  {
   "cell_type": "code",
   "execution_count": null,
   "id": "6c6184e8-9630-429a-ba5c-f3fb149b3242",
   "metadata": {},
   "outputs": [],
   "source": [
    "plt.figure(figsize=(30,20))\n",
    "plt.title(f'T-SNE of extracted features')\n",
    "plt.scatter(embeddings[:, 0], embeddings[:, 1], c=labels)\n",
    "plt.colorbar()\n",
    "#plt.savefig('tsne_embeddings_EAT-base_epoch30.png')\n",
    "plt.show()"
   ]
  }
 ],
 "metadata": {
  "kernelspec": {
   "display_name": "Python 3 (ipykernel)",
   "language": "python",
   "name": "python3"
  },
  "language_info": {
   "codemirror_mode": {
    "name": "ipython",
    "version": 3
   },
   "file_extension": ".py",
   "mimetype": "text/x-python",
   "name": "python",
   "nbconvert_exporter": "python",
   "pygments_lexer": "ipython3",
   "version": "3.10.14"
  }
 },
 "nbformat": 4,
 "nbformat_minor": 5
}
